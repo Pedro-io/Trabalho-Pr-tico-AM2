{
 "cells": [
  {
   "cell_type": "code",
   "execution_count": 1,
   "metadata": {},
   "outputs": [
    {
     "name": "stderr",
     "output_type": "stream",
     "text": [
      "c:\\Users\\maype\\Desktop\\projetos\\Trabalho Prático AM2\\venv\\Lib\\site-packages\\tqdm\\auto.py:21: TqdmWarning: IProgress not found. Please update jupyter and ipywidgets. See https://ipywidgets.readthedocs.io/en/stable/user_install.html\n",
      "  from .autonotebook import tqdm as notebook_tqdm\n"
     ]
    }
   ],
   "source": [
    "# K-Modes\n",
    "from kmodes.kmodes import KModes\n",
    "\n",
    "# DBSCAN\n",
    "from sklearn.cluster import DBSCAN\n",
    "\n",
    "# ROCK\n",
    "from pyclustering.cluster.rock import rock\n",
    "\n",
    "\n",
    "# Para visualização e manipulação \n",
    "import matplotlib.pyplot as plt\n",
    "import pandas as pd \n",
    "import numpy as np\n",
    "import umap\n",
    "from sklearn.metrics import pairwise_distances\n",
    "from scipy.spatial.distance import squareform\n",
    "\n",
    "\n",
    "# Para avaliçãp\n",
    "from sklearn.metrics import accuracy_score"
   ]
  },
  {
   "cell_type": "code",
   "execution_count": 15,
   "metadata": {},
   "outputs": [],
   "source": [
    "fatores_df = pd.read_csv(r'C:\\Users\\maype\\Desktop\\projetos\\Trabalho Prático AM2\\data\\base_fatores.csv')"
   ]
  },
  {
   "cell_type": "code",
   "execution_count": 16,
   "metadata": {},
   "outputs": [
    {
     "name": "stdout",
     "output_type": "stream",
     "text": [
      "Init: initializing centroids\n",
      "Init: initializing clusters\n",
      "Starting iterations...\n",
      "Run 1, iteration: 1/100, moves: 0, cost: 465439.0\n",
      "Init: initializing centroids\n",
      "Init: initializing clusters\n",
      "Starting iterations...\n",
      "Run 2, iteration: 1/100, moves: 0, cost: 465439.0\n",
      "Init: initializing centroids\n",
      "Init: initializing clusters\n",
      "Starting iterations...\n",
      "Run 3, iteration: 1/100, moves: 0, cost: 465439.0\n",
      "Init: initializing centroids\n",
      "Init: initializing clusters\n",
      "Starting iterations...\n",
      "Run 4, iteration: 1/100, moves: 0, cost: 465439.0\n",
      "Init: initializing centroids\n",
      "Init: initializing clusters\n",
      "Starting iterations...\n",
      "Run 5, iteration: 1/100, moves: 0, cost: 465439.0\n",
      "Init: initializing centroids\n",
      "Init: initializing clusters\n",
      "Starting iterations...\n",
      "Run 6, iteration: 1/100, moves: 0, cost: 465439.0\n",
      "Init: initializing centroids\n",
      "Init: initializing clusters\n",
      "Starting iterations...\n",
      "Run 7, iteration: 1/100, moves: 0, cost: 465439.0\n",
      "Init: initializing centroids\n",
      "Init: initializing clusters\n",
      "Starting iterations...\n",
      "Run 8, iteration: 1/100, moves: 0, cost: 465439.0\n",
      "Init: initializing centroids\n",
      "Init: initializing clusters\n",
      "Starting iterations...\n",
      "Run 9, iteration: 1/100, moves: 0, cost: 465439.0\n",
      "Init: initializing centroids\n",
      "Init: initializing clusters\n",
      "Starting iterations...\n",
      "Run 10, iteration: 1/100, moves: 0, cost: 465439.0\n",
      "Best run was number 1\n"
     ]
    }
   ],
   "source": [
    "# K-Modes\n",
    "k_modes = KModes(n_clusters=3, init='Huang', n_init=10, verbose=1)\n",
    "clusters_kmodes = k_modes.fit_predict(fatores_df.drop('diagnostico_hipertensao', axis=1))\n",
    "\n",
    "# Adicionando os resultados ao DataFrame\n",
    "fatores_df['cluster_kmodes'] = clusters_kmodes\n"
   ]
  },
  {
   "cell_type": "code",
   "execution_count": 17,
   "metadata": {},
   "outputs": [],
   "source": [
    "# DBSCAN\n",
    "dbscan = DBSCAN(eps=0.5, min_samples=5)  # Ajuste eps e min_samples conforme necessário\n",
    "clusters_dbscan = dbscan.fit_predict(fatores_df.drop('diagnostico_hipertensao', axis=1))\n",
    "\n",
    "# Adicionando os resultados ao DataFrame\n",
    "fatores_df['cluster_dbscan'] = clusters_dbscan\n"
   ]
  },
  {
   "cell_type": "code",
   "execution_count": null,
   "metadata": {},
   "outputs": [],
   "source": [
    "# Remover a coluna de diagnóstico para o clustering\n",
    "fatores_df_sem_diagnostico = fatores_df.drop('diagnostico_hipertensao', axis=1)\n",
    "\n",
    "# Convertendo para formato numérico adequado ao pyclustering\n",
    "# Transformamos os dados categóricos em números usando 'astype('category').cat.codes'\n",
    "fatores_numericos = fatores_df_sem_diagnostico.apply(lambda x: x.astype('category').cat.codes).values.tolist()\n",
    "\n",
    "# Instanciando o algoritmo ROCK\n",
    "rock_instance = rock(fatores_numericos, eps=0.5, number_clusters=3, threshold=0.5)\n",
    "rock_instance.process()\n",
    "\n",
    "# Obtendo os clusters\n",
    "clusters_rock = rock_instance.get_clusters()\n",
    "\n",
    "# Reduzindo a dimensionalidade para visualização com UMAP\n",
    "umap_2d = umap.UMAP(n_components=2, random_state=42)\n",
    "fatores_umap = umap_2d.fit_transform(fatores_df_sem_diagnostico)\n",
    "\n",
    "# Mapeando os clusters no formato esperado\n",
    "cluster_labels = [-1] * len(fatores_numericos)\n",
    "for cluster_id, cluster_points in enumerate(clusters_rock):\n",
    "    for point_index in cluster_points:\n",
    "        cluster_labels[point_index] = cluster_id"
   ]
  },
  {
   "cell_type": "code",
   "execution_count": null,
   "metadata": {},
   "outputs": [],
   "source": [
    "# Aplicando UMAP para reduzir os fatores a 2 dimensões\n",
    "umap_2d = umap.UMAP(n_components=2, random_state=42)\n",
    "fatores_umap = umap_2d.fit_transform(fatores_sem_diagnostico)\n",
    "\n",
    "# Visualizando os clusters gerados pelos diferentes modelos\n",
    "def plot_clusters(data, labels, title):\n",
    "    plt.figure(figsize=(10, 8))\n",
    "    plt.scatter(data[:, 0], data[:, 1], c=labels, cmap='Spectral', s=30, alpha=0.7)\n",
    "    plt.colorbar(label='Clusters')\n",
    "    plt.title(title)\n",
    "    plt.xlabel('UMAP 1')\n",
    "    plt.ylabel('UMAP 2')\n",
    "    plt.show()\n",
    "\n",
    "# Plotando clusters gerados\n",
    "#plot_clusters(fatores_umap, clusters_rock, 'Clusters ROCK com UMAP')\n",
    "plot_clusters(fatores_umap, clusters_kmodes, 'Clusters K-Modes com UMAP')\n",
    "plot_clusters(fatores_umap, clusters_dbscan, 'Clusters DBSCAN com UMAP')"
   ]
  },
  {
   "cell_type": "code",
   "execution_count": null,
   "metadata": {},
   "outputs": [],
   "source": [
    "# Médias dos fatores por cluster (K-Modes como exemplo)\n",
    "cluster_analysis_kmodes = fatores_df.groupby('cluster_kmodes').mean()\n",
    "print(cluster_analysis_kmodes)\n",
    "\n",
    "# Para DBSCAN\n",
    "cluster_analysis_dbscan = fatores_df.groupby('cluster_dbscan').mean()\n",
    "print(cluster_analysis_dbscan)\n",
    "\n",
    "# Para Rock\n",
    "#cluster_analysis_rock = fatores_df.groupby('cluster_rock').mean()\n",
    "#print(cluster_analysis_rock)"
   ]
  },
  {
   "cell_type": "code",
   "execution_count": null,
   "metadata": {},
   "outputs": [],
   "source": [
    "def calcular_pureza(y_true, clusters):\n",
    "    contingency_matrix = pd.crosstab(y_true, clusters)\n",
    "    return np.sum(np.amax(contingency_matrix.values, axis=0)) / np.sum(contingency_matrix.values)\n",
    "\n",
    "# Pureza para K-Modes\n",
    "pureza_kmodes = calcular_pureza(fatores_df['diagnostico_hipertensao'], clusters_kmodes)\n",
    "print(f'Pureza K-Modes: {pureza_kmodes}')\n",
    "\n",
    "# Pureza para DBSCAN\n",
    "pureza_dbscan = calcular_pureza(fatores_df['diagnostico_hipertensao'], clusters_dbscan)\n",
    "print(f'Pureza DBSCAN: {pureza_dbscan}')\n",
    "\n",
    "# Pureza para Rock\n",
    "#pureza_rock = calcular_pureza(fatores_df['diagnostico_hipertensao'], clusters_rock)\n",
    "#print(f'Pureza Aglomerativo: {pureza_rock}')"
   ]
  }
 ],
 "metadata": {
  "kernelspec": {
   "display_name": "venv",
   "language": "python",
   "name": "python3"
  },
  "language_info": {
   "codemirror_mode": {
    "name": "ipython",
    "version": 3
   },
   "file_extension": ".py",
   "mimetype": "text/x-python",
   "name": "python",
   "nbconvert_exporter": "python",
   "pygments_lexer": "ipython3",
   "version": "3.11.9"
  }
 },
 "nbformat": 4,
 "nbformat_minor": 2
}
