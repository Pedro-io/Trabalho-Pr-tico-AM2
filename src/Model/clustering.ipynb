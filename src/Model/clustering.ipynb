{
 "cells": [
  {
   "cell_type": "code",
   "execution_count": 1,
   "metadata": {},
   "outputs": [],
   "source": [
    "# K-Modes\n",
    "from kmodes.kmodes import KModes\n",
    "\n",
    "# DBSCAN\n",
    "from sklearn.cluster import DBSCAN\n",
    "\n",
    "# Hierarchical Clustering (Aglomerativo)\n",
    "from sklearn.cluster import AgglomerativeClustering\n",
    "\n",
    "# Para visualização\n",
    "import matplotlib.pyplot as plt\n",
    "import pandas as pd "
   ]
  },
  {
   "cell_type": "code",
   "execution_count": 2,
   "metadata": {},
   "outputs": [],
   "source": [
    "fatores_df = pd.read_csv(r'C:\\Users\\maype\\Desktop\\projetos\\Trabalho Prático AM2\\data\\base_fatores.csv')"
   ]
  },
  {
   "cell_type": "code",
   "execution_count": null,
   "metadata": {},
   "outputs": [
    {
     "name": "stdout",
     "output_type": "stream",
     "text": [
      "Init: initializing centroids\n",
      "Init: initializing clusters\n",
      "Starting iterations...\n",
      "Run 1, iteration: 1/100, moves: 0, cost: 465439.0\n",
      "Init: initializing centroids\n",
      "Init: initializing clusters\n",
      "Starting iterations...\n",
      "Run 2, iteration: 1/100, moves: 0, cost: 465439.0\n",
      "Init: initializing centroids\n",
      "Init: initializing clusters\n",
      "Starting iterations...\n",
      "Run 3, iteration: 1/100, moves: 0, cost: 465439.0\n",
      "Init: initializing centroids\n",
      "Init: initializing clusters\n",
      "Starting iterations...\n",
      "Run 4, iteration: 1/100, moves: 0, cost: 465439.0\n",
      "Init: initializing centroids\n",
      "Init: initializing clusters\n",
      "Starting iterations...\n",
      "Run 5, iteration: 1/100, moves: 0, cost: 465439.0\n",
      "Init: initializing centroids\n",
      "Init: initializing clusters\n",
      "Starting iterations...\n",
      "Run 6, iteration: 1/100, moves: 0, cost: 465439.0\n",
      "Init: initializing centroids\n",
      "Init: initializing clusters\n",
      "Starting iterations...\n",
      "Run 7, iteration: 1/100, moves: 0, cost: 465439.0\n",
      "Init: initializing centroids\n",
      "Init: initializing clusters\n",
      "Starting iterations...\n",
      "Run 8, iteration: 1/100, moves: 0, cost: 465439.0\n",
      "Init: initializing centroids\n",
      "Init: initializing clusters\n",
      "Starting iterations...\n",
      "Run 9, iteration: 1/100, moves: 0, cost: 465439.0\n",
      "Init: initializing centroids\n",
      "Init: initializing clusters\n",
      "Starting iterations...\n",
      "Run 10, iteration: 1/100, moves: 0, cost: 465439.0\n",
      "Best run was number 1\n"
     ]
    }
   ],
   "source": [
    "# K-Modes\n",
    "k_modes = KModes(n_clusters=3, init='Huang', n_init=10, verbose=1)\n",
    "clusters_kmodes = k_modes.fit_predict(fatores_df.drop('diagnostico_hipertensao', axis=1))\n",
    "\n",
    "# Adicionando os resultados ao DataFrame\n",
    "fatores_df['cluster_kmodes'] = clusters_kmodes\n",
    "\n",
    "# Visualizando o resultado\n",
    "plt.figure(figsize=(8, 6))\n",
    "plt.scatter(fatores_df['Fator_1'], fatores_df['Fator_2'], c=clusters_kmodes, cmap='viridis')\n",
    "plt.title('Clusterização K-Modes')\n",
    "plt.xlabel('Fator 1')\n",
    "plt.ylabel('Fator 2')\n",
    "plt.show()\n"
   ]
  },
  {
   "cell_type": "code",
   "execution_count": null,
   "metadata": {},
   "outputs": [],
   "source": [
    "# DBSCAN\n",
    "dbscan = DBSCAN(eps=0.5, min_samples=5)  # Ajuste eps e min_samples conforme necessário\n",
    "clusters_dbscan = dbscan.fit_predict(fatores_df.drop('diagnostico_hipertensao', axis=1))\n",
    "\n",
    "# Adicionando os resultados ao DataFrame\n",
    "fatores_df['cluster_dbscan'] = clusters_dbscan\n",
    "\n",
    "# Visualizando o resultado\n",
    "plt.figure(figsize=(8, 6))\n",
    "plt.scatter(fatores_df['Fator_1'], fatores_df['Fator_2'], c=clusters_dbscan, cmap='plasma')\n",
    "plt.title('Clusterização DBSCAN')\n",
    "plt.xlabel('Fator 1')\n",
    "plt.ylabel('Fator 2')\n",
    "plt.show()\n"
   ]
  },
  {
   "cell_type": "code",
   "execution_count": null,
   "metadata": {},
   "outputs": [],
   "source": [
    "# Hierarchical Clustering (Aglomerativo)\n",
    "agg_clust = AgglomerativeClustering(n_clusters=3)  # Ajuste n_clusters conforme necessário\n",
    "clusters_agg = agg_clust.fit_predict(fatores_df.drop('diagnostico_hipertensao', axis=1))\n",
    "\n",
    "# Adicionando os resultados ao DataFrame\n",
    "fatores_df['cluster_agg'] = clusters_agg\n",
    "\n",
    "# Visualizando o resultado\n",
    "plt.figure(figsize=(8, 6))\n",
    "plt.scatter(fatores_df['Fator_1'], fatores_df['Fator_2'], c=clusters_agg, cmap='coolwarm')\n",
    "plt.title('Clusterização Hierarchical Clustering (Aglomerativo)')\n",
    "plt.xlabel('Fator 1')\n",
    "plt.ylabel('Fator 2')\n",
    "plt.show()\n"
   ]
  },
  {
   "cell_type": "code",
   "execution_count": null,
   "metadata": {},
   "outputs": [],
   "source": [
    "from sklearn.metrics import silhouette_score\n",
    "\n",
    "# Avaliando a silhueta de cada modelo\n",
    "sil_kmodes = silhouette_score(fatores_df.drop('diagnostico_hipertensao', axis=1), clusters_kmodes)\n",
    "sil_dbscan = silhouette_score(fatores_df.drop('diagnostico_hipertensao', axis=1), clusters_dbscan)\n",
    "sil_agg = silhouette_score(fatores_df.drop('diagnostico_hipertensao', axis=1), clusters_agg)\n",
    "\n",
    "print(f'Silhueta K-Modes: {sil_kmodes}')\n",
    "print(f'Silhueta DBSCAN: {sil_dbscan}')\n",
    "print(f'Silhueta Aglomerativo: {sil_agg}')\n"
   ]
  },
  {
   "cell_type": "code",
   "execution_count": null,
   "metadata": {},
   "outputs": [],
   "source": []
  }
 ],
 "metadata": {
  "kernelspec": {
   "display_name": "venv",
   "language": "python",
   "name": "python3"
  },
  "language_info": {
   "codemirror_mode": {
    "name": "ipython",
    "version": 3
   },
   "file_extension": ".py",
   "mimetype": "text/x-python",
   "name": "python",
   "nbconvert_exporter": "python",
   "pygments_lexer": "ipython3",
   "version": "3.11.9"
  }
 },
 "nbformat": 4,
 "nbformat_minor": 2
}
