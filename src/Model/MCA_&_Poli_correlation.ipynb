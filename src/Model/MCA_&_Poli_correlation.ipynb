{
 "cells": [
  {
   "cell_type": "code",
   "execution_count": null,
   "metadata": {},
   "outputs": [],
   "source": [
    "import pandas as pd \n",
    "from sklearn.decomposition import FactorAnalysis as fa # Analise fatorial \n",
    "import pingouin as pg # Para o calculo da Correlação Policórica para as variavéis ordinais \n",
    "import prince # Para o calculo da Análise de Correspondências Múltiplas (MCA)  para as variaveis nominais \n",
    "\n"
   ]
  }
 ],
 "metadata": {
  "kernelspec": {
   "display_name": "venv",
   "language": "python",
   "name": "python3"
  },
  "language_info": {
   "name": "python",
   "version": "3.11.9"
  }
 },
 "nbformat": 4,
 "nbformat_minor": 2
}
